{
 "cells": [
  {
   "cell_type": "markdown",
   "metadata": {},
   "source": [
    "# Python Quiz\n",
    "> 8-29-2022\n",
    "\n",
    "- toc: true \n",
    "- badges: true\n",
    "- comments: true\n",
    "- categories: [jupyter]\n",
    "- image: images/chart-preview.png"
   ]
  },
  {
   "cell_type": "code",
   "execution_count": 8,
   "metadata": {
    "vscode": {
     "languageId": "python"
    }
   },
   "outputs": [
    {
     "name": "stdout",
     "output_type": "stream",
     "text": [
      "Question: what is the keyword for defining a function?\n",
      "def is correct!\n",
      "Question: Which functions runs code if a specific requirement is met?\n",
      "if else is correct!\n",
      "Question: How would one print 'Hello world!'?\n",
      "print(\"Hello world!\") is incorrect!\n",
      "You're getting there, you scored 2/3\n"
     ]
    }
   ],
   "source": [
    "import getpass, sys\n",
    "\n",
    "def question_with_response(prompt):\n",
    "    print(\"Question: \" + prompt)\n",
    "    msg = input()\n",
    "    return msg\n",
    "\n",
    "correct = 0\n",
    "\n",
    "rsp = question_with_response(\"what is the keyword for defining a function?\")\n",
    "if rsp == \"def\":\n",
    "    print(rsp + \" is correct!\")\n",
    "    correct += 1\n",
    "else:\n",
    "    print(rsp + \" is incorrect!\")\n",
    "\n",
    "rsp = question_with_response(\"Which functions runs code if a specific requirement is met?\")\n",
    "if rsp == \"if else\":\n",
    "    print(rsp + \" is correct!\")\n",
    "    correct += 1\n",
    "else:\n",
    "    print(rsp + \" is incorrect!\")\n",
    "\n",
    "rsp = question_with_response(\"How would one print 'Hello world!'?\")\n",
    "if rsp == \"print('Hello world!')\":\n",
    "    print(rsp + \" is correct!\")\n",
    "    correct += 1\n",
    "else:\n",
    "    print(rsp + \" is incorrect!\")\n",
    "\n",
    "\n",
    "if correct == 3:\n",
    "    print(\"Good job you scored \" + str(correct) +\"/\" + str(questions))\n",
    "elif correct == 2:\n",
    "    print(\"You're getting there, you scored \" + str(correct) +\"/\" + str(questions))\n",
    "elif correct == 1:\n",
    "    print(\"Try studying more, you scored \" + str(correct) +\"/\" + str(questions))\n",
    "else:\n",
    "    print(\"You should study Python, you scored \" + str(correct) +\"/\" + str(questions))"
   ]
  }
 ],
 "metadata": {
  "kernelspec": {
   "display_name": "Python 3",
   "language": "python",
   "name": "python3"
  },
  "orig_nbformat": 4
 },
 "nbformat": 4,
 "nbformat_minor": 2
}
