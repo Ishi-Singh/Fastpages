{
 "cells": [
  {
   "attachments": {},
   "cell_type": "markdown",
   "metadata": {},
   "source": [
    "#  Binary Racing Game Backend\n",
    "- toc: true\n",
    "- categories: [jupyter]"
   ]
  },
  {
   "cell_type": "code",
   "execution_count": 3,
   "metadata": {},
   "outputs": [
    {
     "name": "stdout",
     "output_type": "stream",
     "text": [
      "What is 5 + 9 =\n",
      "10\n",
      "9\n",
      "18\n",
      "14\n",
      "WRONG. The answer is 14, you put 10\n"
     ]
    }
   ],
   "source": [
    "## I started with a regular math addition game to understand what I need to do\n",
    "import random\n",
    "\n",
    "num1 = random.randint(1, 10) ## Generates two numbers from 1 to 10\n",
    "num2 = random.randint(1, 10)\n",
    "answer = num1 + num2\n",
    "\n",
    "x = random.randint(1, 5) ## These are placeholders for random values that will be used later\n",
    "y = random.randint(-5, 0)\n",
    "    \n",
    "print(f\"What is {num1} + {num2} =\")\n",
    "choices = [answer, answer + x, answer + y, answer - x] ## By using x and y it is possible to get more random answer choices\n",
    "random.shuffle(choices) ## This re-orders the answer choices so that the answer is not always the first value\n",
    "    \n",
    "for choice in choices: ## Displays the choices\n",
    "    print(f\"{choice}\")\n",
    "    \n",
    "player_choice = input() ## This is where the user can input their answer\n",
    "\n",
    "player_choice = int(player_choice) ## Determines if the answer is correct or not\n",
    "if player_choice == answer:\n",
    "    print(f\"You answered {player_choice}, that is CORRECT!\")\n",
    "else:\n",
    "    print(f\"WRONG. The answer is {answer}, you put {player_choice}\")\n"
   ]
  },
  {
   "cell_type": "code",
   "execution_count": 18,
   "metadata": {},
   "outputs": [
    {
     "name": "stdout",
     "output_type": "stream",
     "text": [
      "What is 001110 + 000000 = \n",
      "You answered 001110, that is CORRECT!\n"
     ]
    }
   ],
   "source": [
    "## Trying this with binary\n",
    "import random\n",
    "\n",
    "num1 = random.randint(0, 32)\n",
    "num2 = random.randint(0, 32)\n",
    "binary1 = bin(num1)[2:].zfill(6)\n",
    "binary2 = bin(num2)[2:].zfill(6)\n",
    "\n",
    "print(f\"What is {binary1} + {binary2} = \")\n",
    "player_answer = input()\n",
    "answer = bin(num1 + num2)[2:].zfill(6)\n",
    "\n",
    "if player_answer == answer:\n",
    "    print(f\"You answered {player_answer}, that is CORRECT!\")\n",
    "else:\n",
    "    print(f\"INCORRECT. The correct answer was {answer}, you put {player_answer}.\")\n"
   ]
  },
  {
   "cell_type": "code",
   "execution_count": 20,
   "metadata": {},
   "outputs": [
    {
     "name": "stdout",
     "output_type": "stream",
     "text": [
      "01100 + 01010 = \n",
      "1. 10110\n",
      "2. 01000\n",
      "3. 10000\n",
      "4. 00101\n",
      "You answered 1, that is CORRECT!\n"
     ]
    }
   ],
   "source": [
    "import random\n",
    "\n",
    "def binary_game(): ## Changed to a class to make it easier to call many times\n",
    "    num1 = random.randint(0, 16) ## Generates a random number\n",
    "    num2 = random.randint(0, 16) ## 16 is set as the max\n",
    "    ## The next part of the code allows the generated number to be changed into binary\n",
    "    ## .zfill is used to make sure that the number goes up to 6-bits\n",
    "    binary1 = bin(num1)[2:].zfill(5) ## The string is sliced because the first two characters of the binary value were 0b\n",
    "    binary2 = bin(num2)[2:].zfill(5)\n",
    "    answer = bin(num1 + num2)[2:].zfill(5) ## Takes a sum\n",
    "    options = [answer]\n",
    "    while len(options) < 4: ## Makes it so that only 4 choices are generated\n",
    "        random_answer = bin(random.randint(0, 16))[2:].zfill(5)\n",
    "        if random_answer not in options:\n",
    "            options.append(random_answer)\n",
    "    random.shuffle(options) ## Shuffles the answer choices\n",
    "    print(f\"{binary1} + {binary2} = \") ## Asks the question\n",
    "    for i, option in enumerate(options): ## Shows the list number\n",
    "        print(f\"{i+1}. {option}\")\n",
    "    player_answer = int(input(\"Enter your answer choice: \"))\n",
    "    if options[player_answer-1] == answer:\n",
    "        print(f\"You answered {player_answer}, that is CORRECT!\")\n",
    "    else:\n",
    "        print(f\"INCORRECT. The answer is {answer}, you put {player_answer}\")\n",
    "\n",
    "binary_game() ## Calls the function"
   ]
  }
 ],
 "metadata": {
  "kernelspec": {
   "display_name": "base",
   "language": "python",
   "name": "python3"
  },
  "language_info": {
   "codemirror_mode": {
    "name": "ipython",
    "version": 3
   },
   "file_extension": ".py",
   "mimetype": "text/x-python",
   "name": "python",
   "nbconvert_exporter": "python",
   "pygments_lexer": "ipython3",
   "version": "3.9.12"
  },
  "orig_nbformat": 4
 },
 "nbformat": 4,
 "nbformat_minor": 2
}
