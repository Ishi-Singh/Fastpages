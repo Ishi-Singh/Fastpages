{
 "cells": [
  {
   "cell_type": "markdown",
   "metadata": {},
   "source": [
    "# Data Abstraction\n",
    "> 2022-09-06\n",
    "\n",
    "- toc: true \n",
    "- badges: true\n",
    "- comments: true\n",
    "- categories: [jupyter]"
   ]
  },
  {
   "cell_type": "markdown",
   "metadata": {},
   "source": [
    "## Lists\n",
    "\n",
    "Contain data which can store multiple values"
   ]
  },
  {
   "cell_type": "code",
   "execution_count": 35,
   "metadata": {},
   "outputs": [
    {
     "name": "stdout",
     "output_type": "stream",
     "text": [
      "['fruits', 'dairy', 'protein', 'vegetables']\n"
     ]
    }
   ],
   "source": [
    "types_of_food = [\"fruits\", \"dairy\", \"protein\", \"vegetables\"]\n",
    "print(types_of_food)"
   ]
  },
  {
   "cell_type": "markdown",
   "metadata": {},
   "source": [
    "## Dictionaries\n",
    "Making a dictionary with the five most popular fruit and vegetables with their price in 2021"
   ]
  },
  {
   "cell_type": "code",
   "execution_count": 1,
   "metadata": {},
   "outputs": [
    {
     "name": "stdout",
     "output_type": "stream",
     "text": [
      "fruit\n",
      " bananas 0.62\n",
      " apples 1.23\n",
      " grapes 2.24\n",
      " strawberries 1.37\n",
      " oranges 1.45\n",
      "vegs\n",
      " potatoes 0.78\n",
      " tomatoes 1.91\n",
      " onions 0.97\n",
      " carrots 0.49\n",
      " bell peppers 1.46\n"
     ]
    }
   ],
   "source": [
    "fruit = {\"bananas\": 0.62, \"apples\": 1.23, \"grapes\": 2.24, \"strawberries\": 1.37, \"oranges\": 1.45 }\n",
    "vegs = {\"potatoes\": 0.78, \"tomatoes\": 1.91, \"onions\": 0.97, \"carrots\": 0.49, \"bell peppers\": 1.46}\n",
    "\n",
    "food = dict()\n",
    "food[\"fruit\"] = fruit\n",
    "food[\"vegs\"] = vegs\n",
    "\n",
    "for key, value in food.items():\n",
    "    print(key)\n",
    "    blank = \"\"\n",
    "    for i in key:\n",
    "        blank += \"\"\n",
    "    for keys, values in value.items():\n",
    "        print(blank, keys, values)"
   ]
  },
  {
   "cell_type": "markdown",
   "metadata": {},
   "source": [
    "## Loops\n",
    "### While Loop\n",
    "Using a while loop to give a list of fruits and vegetables which have a price of less than $1.00"
   ]
  },
  {
   "cell_type": "code",
   "execution_count": 3,
   "metadata": {},
   "outputs": [
    {
     "name": "stdout",
     "output_type": "stream",
     "text": [
      "bananas   0.62\n",
      "potatoes   0.78\n",
      "onions   0.97\n",
      "carrots   0.49\n"
     ]
    }
   ],
   "source": [
    "fruit = {\"bananas\": 0.62, \"apples\": 1.23, \"grapes\": 2.24, \"strawberries\": 1.37, \"oranges\": 1.45 }\n",
    "vegs = {\"potatoes\": 0.78, \"tomatoes\": 1.91, \"onions\": 0.97, \"carrots\": 0.49, \"bell peppers\": 1.46}\n",
    "\n",
    "food = dict()\n",
    "food[\"main_fruit\"] = fruit\n",
    "food[\"main_vegs\"] = vegs\n",
    "\n",
    "for key, value in food.items():\n",
    "    key=list(value.keys())\n",
    "    i=0\n",
    "    while(i<len(key)):\n",
    "        price=value[key[i]]\n",
    "        if(price<1.0):\n",
    "            print(key[i], \" \",price)\n",
    "        i+=1\n"
   ]
  },
  {
   "cell_type": "markdown",
   "metadata": {},
   "source": [
    "### Recusion\n",
    "Using recursion to calculate factorials"
   ]
  },
  {
   "cell_type": "code",
   "execution_count": 34,
   "metadata": {},
   "outputs": [
    {
     "data": {
      "text/plain": [
       "5040"
      ]
     },
     "execution_count": 34,
     "metadata": {},
     "output_type": "execute_result"
    }
   ],
   "source": [
    "def fact(n):\n",
    "    if n==1:\n",
    "        return n\n",
    "    else:\n",
    "        return n*fact(n-1)\n",
    "fact(7)"
   ]
  }
 ],
 "metadata": {
  "kernelspec": {
   "display_name": "Python 3.8.10 64-bit",
   "language": "python",
   "name": "python3"
  },
  "language_info": {
   "codemirror_mode": {
    "name": "ipython",
    "version": 3
   },
   "file_extension": ".py",
   "mimetype": "text/x-python",
   "name": "python",
   "nbconvert_exporter": "python",
   "pygments_lexer": "ipython3",
   "version": "3.8.10"
  },
  "orig_nbformat": 4,
  "vscode": {
   "interpreter": {
    "hash": "916dbcbb3f70747c44a77c7bcd40155683ae19c65e1c03b4aa3499c5328201f1"
   }
  }
 },
 "nbformat": 4,
 "nbformat_minor": 2
}
