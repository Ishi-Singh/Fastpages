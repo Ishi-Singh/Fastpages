{
 "cells": [
  {
   "cell_type": "markdown",
   "metadata": {},
   "source": [
    "# Application Programming Interface (API)\n",
    "> 2022-10-09\n",
    "\n",
    "- toc: true\n",
    "- badges: true\n",
    "- comments: true\n",
    "- tags: [jupyter]"
   ]
  },
  {
   "cell_type": "markdown",
   "metadata": {},
   "source": [
    "## Python, RapidAPI Terms\n",
    "> APIs and tooling like Jupyter docs allows many opportunities in fields like Data Science.  As more and more developers use APIs, they build standards in how you setup a client, send requests and receive information..."
   ]
  },
  {
   "cell_type": "markdown",
   "metadata": {},
   "source": [
    "## Covid19 RapidAPI Example"
   ]
  },
  {
   "cell_type": "code",
   "execution_count": null,
   "metadata": {},
   "outputs": [],
   "source": [
    "\n",
    "## how to get data from each site\n",
    "\"\"\"\n",
    "Requests is a HTTP library for the Python programming language. \n",
    "The goal of the project is to make HTTP requests simpler and more human-friendly. \n",
    "\"\"\"\n",
    "import requests\n",
    "\n",
    "url = \"https://corona-virus-world-and-india-data.p.rapidapi.com/api\"\n",
    "\n",
    "headers = {\n",
    "\t\"X-RapidAPI-Key\": \"947170cc21msh533b44751737465p1dc810jsn1c522f8542f5\",\n",
    "\t\"X-RapidAPI-Host\": \"corona-virus-world-and-india-data.p.rapidapi.com\"\n",
    "}\n",
    "\n",
    "response = requests.request(\"GET\", url, headers=headers)\n",
    "\n",
    "## change to .json()\n",
    "print(response.json())\n",
    "\n",
    "# This code looks for \"world data\"\n",
    "print(\"World Totals\")\n",
    "world = response.json().get('world_total')  # turn response to json() so we can extract \"world_total\"\n",
    "for key, value in world.items():  # this finds key, value pairs in country\n",
    "    print(key, value)\n",
    "\n",
    "print()\n",
    "\n",
    "# This code looks for USA in \"countries_stats\"\n",
    "print(\"Country Totals\")\n",
    "## countries is a list\n",
    "countries = response.json().get('countries_stat')\n",
    "for country in countries:  # countries is a list\n",
    "    if country[\"country_name\"] == \"USA\":  # this filters for USA\n",
    "        for key, value in country.items():  # this finds key, value pairs in country\n",
    "            print(key, value)\n",
    "## have different data paterns which need to be found out before being able to use the data"
   ]
  },
  {
   "cell_type": "markdown",
   "metadata": {},
   "source": [
    "## Digital Coin Example\n",
    "> This example provides digital coin feedback (ie Bitcoin).  It include popularity, price, symbols, etc."
   ]
  },
  {
   "cell_type": "code",
   "execution_count": null,
   "metadata": {},
   "outputs": [],
   "source": [
    "\n",
    "## how to get data from each site\n",
    "\"\"\"\n",
    "Requests is a HTTP library for the Python programming language. \n",
    "The goal of the project is to make HTTP requests simpler and more human-friendly. \n",
    "\"\"\"\n",
    "import requests\n",
    "\n",
    "url = \"https://google-translate1.p.rapidapi.com/language/translate/v2/detect\"\n",
    "\n",
    "payload = \"q=English%20is%20hard%2C%20but%20detectably%20so\"\n",
    "headers = {\n",
    "\t\"content-type\": \"application/x-www-form-urlencoded\",\n",
    "\t\"Accept-Encoding\": \"application/gzip\",\n",
    "\t\"X-RapidAPI-Key\": \"947170cc21msh533b44751737465p1dc810jsn1c522f8542f5\",\n",
    "\t\"X-RapidAPI-Host\": \"google-translate1.p.rapidapi.com\"\n",
    "}\n",
    "\n",
    "response = requests.request(\"POST\", url, data=payload, headers=headers)\n",
    "\n",
    "print(response.text)\n",
    "## change to .json()\n",
    "print(response.text)\n",
    "\n",
    "\n",
    "# print(\"Languages\")\n",
    "# lang = response.json().get('languages')  # turn response to json() so we can extract \"world_total\"\n",
    "# for key, value in lang.items():  # this finds key, value pairs in country\n",
    "#     print(key, value)\n",
    "\n",
    "# print()\n",
    "\n",
    "# # # This code looks for USA in \"countries_stats\"\n",
    "# # print(\"Country Totals\")\n",
    "# # ## countries is a list\n",
    "# # countries = response.json().get('countries_stat')\n",
    "# # for country in countries:  # countries is a list\n",
    "# #     if country[\"country_name\"] == \"USA\":  # this filters for USA\n",
    "# #         for key, value in country.items():  # this finds key, value pairs in country\n",
    "# #             print(key, value)\n",
    "# # ## have different data paterns which need ot be found out before being able to use the data"
   ]
  },
  {
   "cell_type": "markdown",
   "metadata": {},
   "source": [
    "## Formatting Digital Coin example\n",
    "> JSON text transferred from the API in the previous cell was converted to a Python Dictionary called json.  The \"coins\" in the dictionary contain a list of the most relevant data.   Look at the code and comments to see how the original text is turned into something understandable.   Additionally, there are error check to make sure we are starting the code with the expectation that the API was run correctly. "
   ]
  },
  {
   "cell_type": "code",
   "execution_count": null,
   "metadata": {},
   "outputs": [],
   "source": [
    "\"\"\"\n",
    "This cell is dependent on valid run of API above.\n",
    "- try and except code is making sure \"json\" was properly run above\n",
    "- inside second try is code that is used to process Coin API data\n",
    "\n",
    "Note.  Run this cell repeatedly to format data without re-activating API\n",
    "\"\"\"\n",
    "\n",
    "try:\n",
    "    print(\"JSON data is Python type: \" + str(type(json)))\n",
    "    try:\n",
    "        # Extracting Coins JSON status, if the API worked\n",
    "        status = json.get('status')\n",
    "        print(\"API status: \" + status)\n",
    "        print()\n",
    "        \n",
    "        # Extracting Coins JSON data, data about the coins\n",
    "        data = json.get('data')\n",
    "        \n",
    "        # Procedural abstraction of Print code for coins\n",
    "        def print_coin(c):\n",
    "            print(c[\"symbol\"], c[\"price\"])\n",
    "            print(\"Icon Url: \" + c[\"iconUrl\"])\n",
    "            print(\"Rank Url: \" + c[\"coinrankingUrl\"])\n",
    "\n",
    "        # Coins data was observed to be a list\n",
    "        for coin in data['coins']:\n",
    "            print_coin(coin)\n",
    "            print()\n",
    "            \n",
    "    except:\n",
    "        print(\"Did you insert a valid key in X-RapidAPI-Key of API cell above?\")\n",
    "        print(json)\n",
    "except:\n",
    "    print(\"This cell is dependent on running API call in cell above!\")"
   ]
  },
  {
   "cell_type": "markdown",
   "metadata": {},
   "source": [
    "## Adding an API Related to the Group Project"
   ]
  },
  {
   "cell_type": "code",
   "execution_count": 1,
   "metadata": {},
   "outputs": [
    {
     "name": "stdout",
     "output_type": "stream",
     "text": [
      "<bound method Response.json of <Response [200]>>\n",
      "Word: pie\n",
      "Definition: 1. An article of food consisting of paste baked with something in it or under it; as, chicken pie; venison pie; mince pie; apple pie; pumpkin pie. 2. See Camp, n., 5. [Prov. Eng.] Halliwell. Pie crust, the paste of a pie.\n",
      "\n",
      "1. (Zoöl.) (a) A magpie. (b) Any other species of the genus Pica, and of several allied genera. [Written also pye.] 2. (R. C. Ch.)  The service book. 3. (Pritn.)  Type confusedly mixed. See Pi. By cock and pie, an adjuration equivalent to \"by God and the service book.\" Shak. -- Tree pie (Zoöl.), any Asiatic bird of the genus Dendrocitta, allied to the magpie. -- Wood pie. (Zoöl.) See French pie, under French.\n",
      "\n",
      "See Pi.\n"
     ]
    }
   ],
   "source": [
    "import requests\n",
    "\n",
    "url = \"https://dictionary-by-api-ninjas.p.rapidapi.com/v1/dictionary\"\n",
    "\n",
    "input(\"Which word do you want to search\")\n",
    "querystring = {\"word\": input()}\n",
    "\n",
    "headers = {\n",
    "\t\"X-RapidAPI-Key\": \"947170cc21msh533b44751737465p1dc810jsn1c522f8542f5\",\n",
    "\t\"X-RapidAPI-Host\": \"dictionary-by-api-ninjas.p.rapidapi.com\"\n",
    "}\n",
    "\n",
    "response = requests.request(\"GET\", url, headers=headers, params=querystring)\n",
    "\n",
    "print(response.json) ## changed .text to .json\n",
    "\n",
    "word = response.json().get('word') ## gets the word\n",
    "define = response.json().get('definition') ## gets the definition\n",
    "\n",
    "print(\"Word: \" + word)\n",
    "print (\"Definition: \" + define)"
   ]
  }
 ],
 "metadata": {
  "kernelspec": {
   "display_name": "Python 3.9.12 ('base')",
   "language": "python",
   "name": "python3"
  },
  "language_info": {
   "codemirror_mode": {
    "name": "ipython",
    "version": 3
   },
   "file_extension": ".py",
   "mimetype": "text/x-python",
   "name": "python",
   "nbconvert_exporter": "python",
   "pygments_lexer": "ipython3",
   "version": "3.9.12"
  },
  "orig_nbformat": 4,
  "vscode": {
   "interpreter": {
    "hash": "61a57a4b5406d2de388e2f91097d4e4bcd7d5f4a46f53a795aa28a02eed27fc5"
   }
  }
 },
 "nbformat": 4,
 "nbformat_minor": 2
}
