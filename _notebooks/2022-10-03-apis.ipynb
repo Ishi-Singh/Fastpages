{
 "cells": [
  {
   "cell_type": "markdown",
   "metadata": {},
   "source": [
    "# Application Programming Interface (API)\n",
    "> 2022-10-09\n",
    "\n",
    "- toc: true\n",
    "- badges: true\n",
    "- comments: true\n",
    "- tags: [jupyter]"
   ]
  },
  {
   "cell_type": "markdown",
   "metadata": {},
   "source": [
    "## Python, RapidAPI Terms\n",
    "> APIs and tooling like Jupyter docs allows many opportunities in fields like Data Science.  As more and more developers use APIs, they build standards in how you setup a client, send requests and receive information..."
   ]
  },
  {
   "cell_type": "markdown",
   "metadata": {},
   "source": [
    "## Covid19 RapidAPI Example"
   ]
  },
  {
   "cell_type": "code",
   "execution_count": null,
   "metadata": {},
   "outputs": [],
   "source": [
    "\n",
    "## how to get data from each site\n",
    "\"\"\"\n",
    "Requests is a HTTP library for the Python programming language. \n",
    "The goal of the project is to make HTTP requests simpler and more human-friendly. \n",
    "\"\"\"\n",
    "import requests\n",
    "\n",
    "url = \"https://corona-virus-world-and-india-data.p.rapidapi.com/api\"\n",
    "\n",
    "headers = {\n",
    "\t\"X-RapidAPI-Key\": \"947170cc21msh533b44751737465p1dc810jsn1c522f8542f5\",\n",
    "\t\"X-RapidAPI-Host\": \"corona-virus-world-and-india-data.p.rapidapi.com\"\n",
    "}\n",
    "\n",
    "response = requests.request(\"GET\", url, headers=headers)\n",
    "\n",
    "## change to .json()\n",
    "print(response.json())\n",
    "\n",
    "# This code looks for \"world data\"\n",
    "print(\"World Totals\")\n",
    "world = response.json().get('world_total')  # turn response to json() so we can extract \"world_total\"\n",
    "for key, value in world.items():  # this finds key, value pairs in country\n",
    "    print(key, value)\n",
    "\n",
    "print()\n",
    "\n",
    "# This code looks for USA in \"countries_stats\"\n",
    "print(\"Country Totals\")\n",
    "## countries is a list\n",
    "countries = response.json().get('countries_stat')\n",
    "for country in countries:  # countries is a list\n",
    "    if country[\"country_name\"] == \"USA\":  # this filters for USA\n",
    "        for key, value in country.items():  # this finds key, value pairs in country\n",
    "            print(key, value)\n",
    "## have different data paterns which need to be found out before being able to use the data"
   ]
  },
  {
   "cell_type": "markdown",
   "metadata": {},
   "source": [
    "## Digital Coin Example\n",
    "> This example provides digital coin feedback (ie Bitcoin).  It include popularity, price, symbols, etc."
   ]
  },
  {
   "cell_type": "code",
   "execution_count": null,
   "metadata": {},
   "outputs": [],
   "source": [
    "\n",
    "## how to get data from each site\n",
    "\"\"\"\n",
    "Requests is a HTTP library for the Python programming language. \n",
    "The goal of the project is to make HTTP requests simpler and more human-friendly. \n",
    "\"\"\"\n",
    "import requests\n",
    "\n",
    "url = \"https://google-translate1.p.rapidapi.com/language/translate/v2/detect\"\n",
    "\n",
    "payload = \"q=English%20is%20hard%2C%20but%20detectably%20so\"\n",
    "headers = {\n",
    "\t\"content-type\": \"application/x-www-form-urlencoded\",\n",
    "\t\"Accept-Encoding\": \"application/gzip\",\n",
    "\t\"X-RapidAPI-Key\": \"947170cc21msh533b44751737465p1dc810jsn1c522f8542f5\",\n",
    "\t\"X-RapidAPI-Host\": \"google-translate1.p.rapidapi.com\"\n",
    "}\n",
    "\n",
    "response = requests.request(\"POST\", url, data=payload, headers=headers)\n",
    "\n",
    "print(response.text)\n",
    "## change to .json()\n",
    "print(response.text)\n",
    "\n",
    "\n",
    "# print(\"Languages\")\n",
    "# lang = response.json().get('languages')  # turn response to json() so we can extract \"world_total\"\n",
    "# for key, value in lang.items():  # this finds key, value pairs in country\n",
    "#     print(key, value)\n",
    "\n",
    "# print()\n",
    "\n",
    "# # # This code looks for USA in \"countries_stats\"\n",
    "# # print(\"Country Totals\")\n",
    "# # ## countries is a list\n",
    "# # countries = response.json().get('countries_stat')\n",
    "# # for country in countries:  # countries is a list\n",
    "# #     if country[\"country_name\"] == \"USA\":  # this filters for USA\n",
    "# #         for key, value in country.items():  # this finds key, value pairs in country\n",
    "# #             print(key, value)\n",
    "# # ## have different data paterns which need ot be found out before being able to use the data"
   ]
  },
  {
   "cell_type": "markdown",
   "metadata": {},
   "source": [
    "## Formatting Digital Coin example\n",
    "> JSON text transferred from the API in the previous cell was converted to a Python Dictionary called json.  The \"coins\" in the dictionary contain a list of the most relevant data.   Look at the code and comments to see how the original text is turned into something understandable.   Additionally, there are error check to make sure we are starting the code with the expectation that the API was run correctly. "
   ]
  },
  {
   "cell_type": "code",
   "execution_count": null,
   "metadata": {},
   "outputs": [],
   "source": [
    "\"\"\"\n",
    "This cell is dependent on valid run of API above.\n",
    "- try and except code is making sure \"json\" was properly run above\n",
    "- inside second try is code that is used to process Coin API data\n",
    "\n",
    "Note.  Run this cell repeatedly to format data without re-activating API\n",
    "\"\"\"\n",
    "\n",
    "try:\n",
    "    print(\"JSON data is Python type: \" + str(type(json)))\n",
    "    try:\n",
    "        # Extracting Coins JSON status, if the API worked\n",
    "        status = json.get('status')\n",
    "        print(\"API status: \" + status)\n",
    "        print()\n",
    "        \n",
    "        # Extracting Coins JSON data, data about the coins\n",
    "        data = json.get('data')\n",
    "        \n",
    "        # Procedural abstraction of Print code for coins\n",
    "        def print_coin(c):\n",
    "            print(c[\"symbol\"], c[\"price\"])\n",
    "            print(\"Icon Url: \" + c[\"iconUrl\"])\n",
    "            print(\"Rank Url: \" + c[\"coinrankingUrl\"])\n",
    "\n",
    "        # Coins data was observed to be a list\n",
    "        for coin in data['coins']:\n",
    "            print_coin(coin)\n",
    "            print()\n",
    "            \n",
    "    except:\n",
    "        print(\"Did you insert a valid key in X-RapidAPI-Key of API cell above?\")\n",
    "        print(json)\n",
    "except:\n",
    "    print(\"This cell is dependent on running API call in cell above!\")"
   ]
  },
  {
   "cell_type": "markdown",
   "metadata": {},
   "source": [
    "## Adding an API Related to the Group Project"
   ]
  },
  {
   "cell_type": "code",
   "execution_count": 62,
   "metadata": {},
   "outputs": [
    {
     "name": "stdout",
     "output_type": "stream",
     "text": [
      "<bound method Response.json of <Response [200]>>\n",
      "Word: country\n",
      "Definition: 1. A tract of land; a region; the territory of an independent nation; (as distinguished from any other region, and with a personal pronoun) the region of one's birth, permanent residence, or citizenship. Return unto thy country, and to thy kindred. Gen. xxxxii. 9. I might have learned this by my last exile, that change of countries cannot change my state. Stirling. Many a famous realm And country, whereof here needs no account Milton. 2. Rural regions, as opposed to a city or town. As they walked, on their way into the country. Mark xvi. 12 (Rev. Ver. ). God made the covatry, and man made the town. Cowper. Only very great men were in the habit of dividing the year between town and country. Macualay. 3. The inhabitants or people of a state or a region; the populace; the public. Hence: (a) One's constituents. (b) The whole body of the electors of state; as, to dissolve Parliament and appeal to the country. All the country in a general voice Cried hate upon him. Shak. 4. (Law) (a) A jury, as representing the citizens of a country. (b) The inhabitants of the district from which a jury is drawn. 5. (Mining.)  The rock through which a vein runs. Conclusion to the country. See under Conclusion. -- To put, or throw, one's self upon the country, to appeal to one's constituents; to stand trial before a jury.\n",
      "\n",
      "1. Pertaining to the regions remote from a city; rural; rustic; as, a country life; a country town; the country party, as opposed to city. 2. Destitute of refinement; rude; unpolished; rustic; not urbane; as, country manners. 3. Pertaining, or peculiar, to one's own country. She, bowing herself towards him, laughing the cruel tyrant to scorn, spake in her country language. 2 Macc. vii. 27.\n"
     ]
    }
   ],
   "source": [
    "import requests\n",
    "\n",
    "url = \"https://dictionary-by-api-ninjas.p.rapidapi.com/v1/dictionary\"\n",
    "\n",
    "input(\"Which word do you want to search\")\n",
    "querystring = {\"word\": input()}\n",
    "\n",
    "headers = {\n",
    "\t\"X-RapidAPI-Key\": \"947170cc21msh533b44751737465p1dc810jsn1c522f8542f5\",\n",
    "\t\"X-RapidAPI-Host\": \"dictionary-by-api-ninjas.p.rapidapi.com\"\n",
    "}\n",
    "\n",
    "response = requests.request(\"GET\", url, headers=headers, params=querystring)\n",
    "\n",
    "print(response.json) ## changed .text to .json\n",
    "\n",
    "word = response.json().get('word') ## gets the word\n",
    "define = response.json().get('definition') ## gets the definition\n",
    "\n",
    "print(\"Word: \" + word)\n",
    "print (\"Definition: \" + define)"
   ]
  }
 ],
 "metadata": {
  "kernelspec": {
   "display_name": "Python 3.9.12 ('base')",
   "language": "python",
   "name": "python3"
  },
  "language_info": {
   "codemirror_mode": {
    "name": "ipython",
    "version": 3
   },
   "file_extension": ".py",
   "mimetype": "text/x-python",
   "name": "python",
   "nbconvert_exporter": "python",
   "pygments_lexer": "ipython3",
   "version": "3.9.12"
  },
  "orig_nbformat": 4,
  "vscode": {
   "interpreter": {
    "hash": "61a57a4b5406d2de388e2f91097d4e4bcd7d5f4a46f53a795aa28a02eed27fc5"
   }
  }
 },
 "nbformat": 4,
 "nbformat_minor": 2
}
