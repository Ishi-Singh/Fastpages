{
 "cells": [
  {
   "attachments": {},
   "cell_type": "markdown",
   "metadata": {},
   "source": [
    "# Unit 3 Sections 12-13 Hacks\n",
    "\n",
    "- toc: true\n",
    "- badges: true\n",
    "- comments: true\n",
    "- categories: [jupyter]"
   ]
  },
  {
   "attachments": {},
   "cell_type": "markdown",
   "metadata": {},
   "source": [
    "## 3.12\n",
    "1.  This problem involves parameters\n",
    "Qais is writing code to calculate formulas from his math class. He's currently working on a procedure to calculate average speed, based on this formula:\n",
    "\n",
    "Average speed = Total Time/Total Distance​\n",
    "\n",
    "- Highlight which of these is the best procedure for calculating and displaying average speed.\n",
    "- PROCEDURE calcAvgSpeed (distance, time) { DISPLAY (distance/time) }\n",
    "- PROCEDURE calcAvgSpeed (distance) { DISPLAY (distance/time) }\n",
    "- <mark>PROCEDURE calcAvgSpeed (distance, time) { DISPLAY (time/distance) }</mark>"
   ]
  },
  {
   "attachments": {},
   "cell_type": "markdown",
   "metadata": {},
   "source": [
    "2. Procedures with return values\n",
    "James Hunter is looking through his classmate's program and sees a procedure called heightenEmotions: PROCEDURE heightenEmotions(myEmotion)\n",
    "\n",
    "{ moreEnergy ← CONCAT(myEmotion, \"!!!\")\n",
    "\n",
    "moreVolume ← UPPER(moreEnergy)\n",
    "\n",
    "RETURN moreVolume }\n",
    "\n",
    "That procedure manipulates strings using two built-in procedures, CONCAT for concatenating two strings together, and UPPER for converting a string to uppercase.\n",
    "\n",
    "James Hunter then sees this line of code:\n",
    "\n",
    "heightenEmotions(\"im mad\")\n",
    "\n",
    "After that line of code runs, will nothing be displayed?\n",
    "\n",
    "- <mark>True</mark>\n",
    "- False"
   ]
  },
  {
   "attachments": {},
   "cell_type": "markdown",
   "metadata": {},
   "source": [
    "3. Procedures with return values\n",
    "Bubz is writing a program to calculate the carbon footprint of his activities. The procedure calcFlightFootprint calculates the pounds of carbon dioxide produced per passenger in a flight that covers a given number of miles and seats a given number of passengers.\n",
    "\n",
    "PROCEDURE calcFlightFootprint(numMiles, numPassengers) { CO2_PER_MILE ← 53.29\n",
    "\n",
    "carbonPerFlight ← numMiles * CO2_PER_MILE\n",
    "\n",
    "carbonPerPassenger ← carbonPerFlight / numPassengers\n",
    "\n",
    "RETURN carbonPerPassenger\n",
    "\n",
    "}\n",
    "\n",
    "Bubz wants to use that procedure to calculate the total footprint for his two upcoming flights: LA to NY: 2,451 miles and 118 passengers NY to London: 3,442 miles and 252 passengers\n",
    "\n",
    "Which of these code snippets successfully calculates and stores her total footprint? Highlight 2 answers.\n",
    "\n",
    "1. <mark>totalFootprint ← calcFlightFootprint(2451, 118) + calcFlightFootprint(3442, 252)</mark>\n",
    "\n",
    "2. totalFootprint ← calcFlightFootprint(2451, 118 + 3442, 252)\n",
    "\n",
    "3. <mark>totalFootprint ← calcFlightFootprint((2451, 118) + (3442, 252)) </mark>\n",
    "\n",
    "4. laNyCarbon ← calcFlightFootprint(2451, 118) nyLondonCarbon ← calcFlightFootprint(3442, 252) totalFootprint ← laNyCarbon + nyLondonCarbon"
   ]
  },
  {
   "attachments": {},
   "cell_type": "markdown",
   "metadata": {},
   "source": [
    "1. \n",
    "\n",
    "PROCEDURE find a ()\n",
    "{ c -- 9\n",
    "\n",
    "b <-- 9 * 9\n",
    "\n",
    "a <-- b * c\n",
    "\n",
    "Print (a)\n",
    "\n",
    "}\n",
    "\n",
    "a = 729"
   ]
  },
  {
   "attachments": {},
   "cell_type": "markdown",
   "metadata": {},
   "source": [
    "2. \n",
    "PROCEDURE applytax (cost, cpercentDiscounted) { temp <-- 100 + percentTaxed\n",
    "\n",
    "temp <-- temp / 100\n",
    "\n",
    "cost <-- cost x temp\n",
    "\n",
    "Print(cost)}\n",
    "\n",
    "cost = $190.30"
   ]
  },
  {
   "attachments": {},
   "cell_type": "markdown",
   "metadata": {},
   "source": [
    "3. \n",
    "Temperature - 103 Degrees \n",
    "\n",
    "PROCEDURE convet Fahrenheit (tempature)\n",
    "\n",
    "{\n",
    "\n",
    "Celsius <-- Tempature - 32\n",
    "\n",
    "Celsius <-- Celsius x 5/9\n",
    "\n",
    "Print (Celsius)}\n",
    "\n",
    "Temperature = 39.4"
   ]
  },
  {
   "attachments": {},
   "cell_type": "markdown",
   "metadata": {},
   "source": [
    "## 3.13\n",
    "\n",
    "1. Create a procedure that is meant to replace the top running backs yards per game in one season if the current running back has more yards per game Necessary Parameters: toprbyardspg(100), currentrbyards(1260), totalGames(12)."
   ]
  },
  {
   "cell_type": "raw",
   "metadata": {},
   "source": [
    "PROCEDURE changetoprbyardspg(100), currentrbyards(1260), totalGames(12){\n",
    "    if currentrbyards(1260) > toprbyardspg(100) {\n",
    "        toprbyardspg(100) = currentrbyards\n",
    "    }\n",
    "}"
   ]
  },
  {
   "attachments": {},
   "cell_type": "markdown",
   "metadata": {},
   "source": [
    "2. Write a procedure that will allow the A+ to get to the 1, while avoiding the black boxes"
   ]
  },
  {
   "cell_type": "raw",
   "metadata": {},
   "source": [
    "PROCEDURE move {\n",
    "    MOVE_RIGHT()\n",
    "    MOVE_FORWARD()\n",
    "    MOVE_FORWARD()\n",
    "    MOVE_RIGHT()\n",
    "    MOVE_RIGHT()\n",
    "    MOVE_RIGHT()\n",
    "    MOVE_FORWARD()\n",
    "    MOVE_FORWARD()\n",
    "    MOVE_RIGHT()\n",
    "    MOVE_RIGHT()\n",
    "    MOVE_FORWARD()\n",
    "    MOVE_RIGHT()\n",
    "    MOVE_RIGHT()\n",
    "}"
   ]
  },
  {
   "attachments": {},
   "cell_type": "markdown",
   "metadata": {},
   "source": [
    "3. Which Is the Correct Way to define the Name of a Procedure?\n",
    "\n",
    "- A. PROCEDURE MYLIST\n",
    "- <mark>B. PROCEDURE MyList</mark>\n",
    "- C. procedure mylist"
   ]
  },
  {
   "attachments": {},
   "cell_type": "markdown",
   "metadata": {},
   "source": [
    "4. Write A Procedure That gets the BeachBall To the Green Square"
   ]
  },
  {
   "cell_type": "raw",
   "metadata": {},
   "source": [
    "PROCEDURE move {\n",
    "    MOVE_LEFT()\n",
    "    MOVE_FORWARD()\n",
    "    MOVE_FORWARD()\n",
    "    MOVE_FORWARD()\n",
    "    MOVE_FORWARD()\n",
    "    MOVE_FORWARD()\n",
    "    MOVE_FORWARD()\n",
    "    MOVE_LEFT()\n",
    "    MOVE_LEFT()\n",
    "    MOVE_LEFT()\n",
    "}"
   ]
  }
 ],
 "metadata": {
  "kernelspec": {
   "display_name": "base",
   "language": "python",
   "name": "python3"
  },
  "language_info": {
   "codemirror_mode": {
    "name": "ipython",
    "version": 3
   },
   "file_extension": ".py",
   "mimetype": "text/x-python",
   "name": "python",
   "nbconvert_exporter": "python",
   "pygments_lexer": "ipython3",
   "version": "3.9.12"
  },
  "orig_nbformat": 4,
  "vscode": {
   "interpreter": {
    "hash": "61a57a4b5406d2de388e2f91097d4e4bcd7d5f4a46f53a795aa28a02eed27fc5"
   }
  }
 },
 "nbformat": 4,
 "nbformat_minor": 2
}
