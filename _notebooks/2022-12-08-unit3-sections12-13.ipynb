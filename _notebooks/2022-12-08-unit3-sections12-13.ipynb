{
 "cells": [
  {
   "attachments": {},
   "cell_type": "markdown",
   "metadata": {},
   "source": [
    "## Problem #1\n",
    "\n",
    "- (-8 = num1)\n",
    "- (-12 = num2)\n",
    "- summarize (-8,-12)\n",
    "- IF (num1 < num2)\n",
    "- {\n",
    "- RETURN (num1)\n",
    "- }\n",
    "- RETURN (num2)\n",
    "- }\n",
    "- PROCEDURE summarize (numberA, numberB)\n",
    "- {\n",
    "- minimum<-min(numberA, numberB)\n",
    "- DISPLAY (\"The minimum number is\")\n",
    "- PROCEDURE min (num1,num2)\n",
    "- {"
   ]
  },
  {
   "attachments": {},
   "cell_type": "markdown",
   "metadata": {},
   "source": [
    "Qais is writing code to calculate formulas from his math class. He's currently working on a procedure to calculate average speed, based on this formula:\n",
    "\n",
    "Average speed= Total Time/Total Distance​\n",
    "\n",
    "Highlight which of these is the best procedure for calculating and displaying average speed.\n",
    "PROCEDURE calcAvgSpeed (distance, time) { DISPLAY (distance/time) }\n",
    "PROCEDURE calcAvgSpeed (distance) { DISPLAY (distance/time) }\n",
    "PROCEDURE calcAvgSpeed (distance, time) { DISPLAY (time/distance) }"
   ]
  }
 ],
 "metadata": {
  "kernelspec": {
   "display_name": "base",
   "language": "python",
   "name": "python3"
  },
  "language_info": {
   "name": "python",
   "version": "3.9.12 (main, Apr  5 2022, 06:56:58) \n[GCC 7.5.0]"
  },
  "orig_nbformat": 4,
  "vscode": {
   "interpreter": {
    "hash": "61a57a4b5406d2de388e2f91097d4e4bcd7d5f4a46f53a795aa28a02eed27fc5"
   }
  }
 },
 "nbformat": 4,
 "nbformat_minor": 2
}
