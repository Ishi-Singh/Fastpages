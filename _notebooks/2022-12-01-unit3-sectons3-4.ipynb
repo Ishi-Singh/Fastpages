{
 "cells": [
  {
   "cell_type": "markdown",
   "metadata": {},
   "source": [
    "# Unit 3 Sections 3-4 Hacks\n",
    "\n",
    "- toc: true\n",
    "- badges: true\n",
    "- comments: true\n",
    "- categories: [jupyter]"
   ]
  },
  {
   "cell_type": "markdown",
   "metadata": {},
   "source": [
    "## 3.3 Video 1 Hacks"
   ]
  },
  {
   "cell_type": "code",
   "execution_count": 1,
   "metadata": {},
   "outputs": [
    {
     "name": "stdout",
     "output_type": "stream",
     "text": [
      "[0, 2, 4, 6, 8, 10]\n"
     ]
    }
   ],
   "source": [
    "numbers = [0,1,2,3,4,5,6,7,8,9,10]\n",
    "evens = []\n",
    "\n",
    "for i in numbers:\n",
    "    if (numbers[i] % 2 == 0):\n",
    "        evens.append(numbers[i])\n",
    "\n",
    "print(evens)"
   ]
  },
  {
   "cell_type": "markdown",
   "metadata": {},
   "source": [
    "The cell is a sequence, the for loop is an iteration since it's repeating an action, and the if statement is a selection since it's giving parameters to only print specific numbers."
   ]
  },
  {
   "cell_type": "code",
   "execution_count": 2,
   "metadata": {},
   "outputs": [
    {
     "name": "stdout",
     "output_type": "stream",
     "text": [
      "*\n",
      "**\n",
      "***\n",
      "****\n",
      "*****\n"
     ]
    }
   ],
   "source": [
    "i = 1\n",
    "starString = \"*\"\n",
    "while i <= 5:\n",
    "  j = 1\n",
    "  while j <= i:\n",
    "    print (\"*\", end= \"\")\n",
    "    j += 1\n",
    "  print ()\n",
    "  i += 1"
   ]
  },
  {
   "cell_type": "markdown",
   "metadata": {},
   "source": [
    "The cell is a sequence, the while i <= 5 is iteration since it tells the code to repeat until i = 5, an the while j <= i is selection since it gives values for j."
   ]
  },
  {
   "cell_type": "markdown",
   "metadata": {},
   "source": [
    "## 3.3 Video 2 Hacks\n",
    "\n",
    "### Practice Problems\n",
    "\n",
    "1. Given the following code segment below:\\\n",
    "a ⟵ 7\\\n",
    "b ⟵ 1\\\n",
    "c ⟵ 3\\\n",
    "d ⟵ 4\\\n",
    "a ⟵ b\\\n",
    "b ⟵ c + d\\\n",
    "d ⟵ b\n",
    "\n",
    "find the value for a, b, c, d\n",
    "\n",
    "a = 1 since a is assigned b and the value of b is 1\n",
    "b = 7 since b is assigned the sum of c and d which is 3 + 4 which is 7\n",
    "c = 3 since c is assigned as 3\n",
    "d = 7 since d is assigned as b which was previously assigned as 7\n",
    "\n",
    "1. Consider the following code segment:\\\n",
    "hot ⟵ true\\\n",
    "cold ⟵ false\\\n",
    "cold ⟵ hot\\\n",
    "hot ⟵ cold\n",
    "\n",
    "What are the values of hot and cold after executing the code segment?\n",
    "\n",
    "1. The value of hot is true, the value of cold is true\n",
    "2. The value of hot is false, the value of cold is true\n",
    "3. The value of hot is true, the value of cold is false\n",
    "4. The value of hot is false, the value of cold is false\n",
    "\n",
    "Answer 1: since cold is assigned as hot which was assigned true and hot is assigned as cold which was assigned true\n",
    "\n",
    "### Making Questions\n",
    "\n",
    "1. Consider the following coding segment:\n",
    "a ⟵ 5\\\n",
    "b ⟵ 10\\\n",
    "c ⟵ 2\\\n",
    "d ⟵ 4\\\n",
    "a ⟵ b - a\\\n",
    "b ⟵ c + d\\\n",
    "d ⟵ a + b\n",
    "\n",
    "What is the value of d?\n",
    "\n",
    "Answer: 11; a is assigned as b - a which can be rewritten as 10 - 5 which can be simplified to 5, giving the value of 5 to a. The value of b is c + d which can be written as 2 + 4 which is simplified to 6. And since d is assigned as a + b, by using the most recent values of these variables you would get 5 + 6 which is simplified to 11\n",
    "\n",
    "2. Consider the following coding segment:\n",
    "\n",
    "a ⟵ 1\\\n",
    "b ⟵ 2\\\n",
    "c ⟵ 3\\\n",
    "d ⟵ 4\\\n",
    "a ⟵ c**\\\n",
    "b ⟵ a + d\\\n",
    "d ⟵ a + b + c\n",
    "\n",
    "What is the value of d?\n",
    "\n",
    "Answer: 25; to get the value of a one must square c which whould make a = 9, by adding that to d one gets 9 + 4 which is 13, and to get the value of d one would add 9 + 13 + 3 which gives 25. "
   ]
  },
  {
   "cell_type": "code",
   "execution_count": null,
   "metadata": {},
   "outputs": [],
   "source": [
    "num1 = 3\n",
    "num2 = 1\n",
    "num3 = 5\n",
    "num1 = num2 + num3      \n",
    "num2 = num1 + num3      # num2 is now the new num1 + num3"
   ]
  },
  {
   "cell_type": "markdown",
   "metadata": {},
   "source": [
    "num1 = 6 since num2 + num3 can be rewritten as 1 + 5 and that simplifies to 6\\\n",
    "num2 = 11 since num1 + num3 can be rewritten as 6 + 5 which is 11"
   ]
  },
  {
   "cell_type": "markdown",
   "metadata": {},
   "source": [
    "## 3.4 Video 1 Hacks\n",
    "\n",
    "### String Homework\n",
    "\n",
    "Test 1\n",
    "\n",
    "firstName <- \"Bob\"\\\n",
    "lastName <- \"Smith\"\\\n",
    "var <- substring(firstName, 1, 1)\\ \n",
    "name <- concat(lastName, var)\\ \n",
    "email <- concat(name, \"@gmail.com\")\\ \n",
    "DISPLAY(email)\n",
    "\n",
    "What would the result be?\n",
    "\n",
    "Hint: var = \"B\" name = \"SmithB\"\n",
    "\n",
    "Answer: SmithB@gmail.com; only the firstletter is taken from firstName and it's added to the end of lastName which gives SmithB and then @gmail.com is concatinated with the name which gives SmithB@gmail.com\n",
    "\n",
    "\n",
    "Test 2\n",
    "\n",
    "word1 <- \"computer\" \\\n",
    "word2 <- \"textbooks\" \\\n",
    "length1 <- len(word1)/2 \\\n",
    "length2 <- len(word2)/3 \\\n",
    "first <- substring(word1, 2, len1) \\\n",
    "second <- substring(word2, len2+3, len2) \\\n",
    "newWord <- concat(first, second) \\\n",
    "DISPLAY(newWord)\n",
    "\n",
    "Answer: ompuook; length1 can be written as 8/2 or 4 since \"computer\" is 8 letters long and length2 is 3 since it can be written as 9/3 which is 3. The variable first is ompu since it's 4 letters long and starts at the second letter and second is ook since it's 3 letters and starts at the 6th letter. And when these are added together one gets \"ompuook\""
   ]
  }
 ],
 "metadata": {
  "kernelspec": {
   "display_name": "Python 3.9.12 ('base')",
   "language": "python",
   "name": "python3"
  },
  "language_info": {
   "codemirror_mode": {
    "name": "ipython",
    "version": 3
   },
   "file_extension": ".py",
   "mimetype": "text/x-python",
   "name": "python",
   "nbconvert_exporter": "python",
   "pygments_lexer": "ipython3",
   "version": "3.9.12 (main, Apr  5 2022, 06:56:58) \n[GCC 7.5.0]"
  },
  "orig_nbformat": 4,
  "vscode": {
   "interpreter": {
    "hash": "61a57a4b5406d2de388e2f91097d4e4bcd7d5f4a46f53a795aa28a02eed27fc5"
   }
  }
 },
 "nbformat": 4,
 "nbformat_minor": 2
}
