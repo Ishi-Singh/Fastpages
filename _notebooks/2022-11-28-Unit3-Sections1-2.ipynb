{
 "cells": [
  {
   "cell_type": "markdown",
   "metadata": {},
   "source": [
    "# Unit 3 Sections 1-2\n",
    "> 2022-11-28\n",
    "\n",
    "- toc: true \n",
    "- badges: true\n",
    "- comments: true\n",
    "- categories: [jupyter]"
   ]
  },
  {
   "cell_type": "markdown",
   "metadata": {},
   "source": [
    "## 3.1\n",
    "\n",
    "Score: 6/6\n",
    "\n",
    "1. 1; in a store the number of apples can change from coustomers taking them and the store restocking them. This means that there's addition and subtraction is going on, which tells us the the variable type is an integer. Which is why I chose 1 as my answer.\n",
    "\n",
    "2. 3; the variable type must be boolean because we're looking for a True or False output this leaves choices 2 and 3 but 3 is chosen since \"isCold\" is more specific than \"weather\".\n",
    "\n",
    "3. 1; the variable type is string since ID numbers can't be added or subracted by a value, leaving 1 as the answer.\n",
    "\n",
    "4. 2; the variable is too long.\n",
    "\n",
    "5. 1; only booleans have the ablity to store a variable as true or false.\n",
    "\n",
    "6. 4; integers have the ability to preform operations on themselves while strings can only store a \"dialague\" of numbers and not an actual integer values.\n",
    "\n",
    "## Making Questions\n",
    "\n",
    "1. You work at a store and you want to make a list of names for all the items the store has, which of the following variable types will most likly be used?\n",
    "\n",
    "A. isFruit, boolean\\\n",
    "B. itemPrice, float\\\n",
    "C. itemName, string\\\n",
    "D. numberOfItems, integer\n",
    "\n",
    "Answer: C. itemName, string\n",
    "\n",
    "2. As a weatherman you need to tell if the weather is hot or not, how would you name this vaariable and what would be its data type?\n",
    "\n",
    "A. isHot, boolean\\\n",
    "B. isHot, integer\\\n",
    "C. weatherTemperature, string\\\n",
    "D. weatherTemperature, float\n",
    "\n",
    "Answer: A. isHot, boolean\n",
    "\n",
    "3. What is the best way to store a variable which is suppose to help with adding whole numbers?\n",
    "\n",
    "A. numAdd, integer\\\n",
    "B. numAdd, float\\\n",
    "C. isPositive, boolean\\\n",
    "D. isPositive, string\n",
    "\n",
    "Answer: A. numAdd, integer"
   ]
  },
  {
   "cell_type": "markdown",
   "metadata": {},
   "source": [
    "## 3.2\n",
    "## Interacting\n",
    "\n",
    "1. Modify the list to change the length to 5."
   ]
  },
  {
   "cell_type": "code",
   "execution_count": 4,
   "metadata": {},
   "outputs": [],
   "source": [
    "languages_list = []\n",
    "languages_list = [\"Python\", \"C++\", \"JavaScript\", \"Java\", \"C#\"] \n",
    "\n",
    "## To change the length to 5 I just added more variables in the list until it got to 5\n"
   ]
  },
  {
   "cell_type": "markdown",
   "metadata": {},
   "source": [
    "2. Change the following code to print out the list."
   ]
  },
  {
   "cell_type": "code",
   "execution_count": 5,
   "metadata": {},
   "outputs": [
    {
     "name": "stdout",
     "output_type": "stream",
     "text": [
      "['Python', 'C++', 'JavaScript']\n"
     ]
    }
   ],
   "source": [
    "languages_list = []\n",
    "languages_list = [\"Python\", \"C++\", \"JavaScript\"]\n",
    "print(languages_list)\n",
    "\n",
    "## For this I just added the name of the list in the parentheses in print()"
   ]
  },
  {
   "cell_type": "markdown",
   "metadata": {},
   "source": [
    "3. Change the following code to print out only \"Python\""
   ]
  },
  {
   "cell_type": "code",
   "execution_count": 6,
   "metadata": {},
   "outputs": [
    {
     "name": "stdout",
     "output_type": "stream",
     "text": [
      "Python\n"
     ]
    }
   ],
   "source": [
    "languages_list = []\n",
    "languages_list = [\"Python\", \"C++\", \"JavaScript\"]\n",
    "print(languages_list[0])\n",
    "\n",
    "## Since lists start at 0 you put that number in the brackets which would then print the value at that point which is, in this case, \"Python\""
   ]
  },
  {
   "cell_type": "markdown",
   "metadata": {},
   "source": [
    "4. Replace contents/data of listA with contents/data from listB."
   ]
  },
  {
   "cell_type": "code",
   "execution_count": 8,
   "metadata": {},
   "outputs": [
    {
     "name": "stdout",
     "output_type": "stream",
     "text": [
      "[22, 7, 13]\n"
     ]
    }
   ],
   "source": [
    "listA = []\n",
    "listA = [1, 55, 8, 2, 76]\n",
    "listB = []\n",
    "listB = [22, 7, 13]\n",
    "listA = listB\n",
    "\n",
    "print(listA)\n",
    "\n",
    "## "
   ]
  },
  {
   "cell_type": "markdown",
   "metadata": {},
   "source": [
    "5. Make 2 lists:\n",
    "\n",
    "- a list of string data\n",
    "- a list of number data\n",
    "- the length of the each list is a minimum of 4\n",
    "- change the names of the lists"
   ]
  },
  {
   "cell_type": "code",
   "execution_count": 9,
   "metadata": {},
   "outputs": [
    {
     "name": "stdout",
     "output_type": "stream",
     "text": [
      "['a', 'b', 'c', 'd', 'e', 1, 2, 3, 4, 5]\n"
     ]
    }
   ],
   "source": [
    "listA = [\"a\", \"b\", \"c\", \"d\", \"e\"]\n",
    "listB = [1, 2, 3, 4, 5]\n",
    "\n",
    "A = listA\n",
    "B = listB\n",
    "\n",
    "print(A + B)"
   ]
  },
  {
   "cell_type": "markdown",
   "metadata": {},
   "source": [
    "6. Combine the list to contain all of the data from both lists."
   ]
  },
  {
   "cell_type": "code",
   "execution_count": 10,
   "metadata": {},
   "outputs": [
    {
     "name": "stdout",
     "output_type": "stream",
     "text": [
      "['a', 'b', 'c', 'd', 'e', 1, 2, 3, 4, 5]\n"
     ]
    }
   ],
   "source": [
    "listA = [\"a\", \"b\", \"c\", \"d\", \"e\"]\n",
    "listB = [1, 2, 3, 4, 5]\n",
    "\n",
    "listC = listA + listB\n",
    "\n",
    "print(listC)"
   ]
  },
  {
   "cell_type": "markdown",
   "metadata": {},
   "source": [
    "## Binary\n",
    "\n",
    "Score: 3/3\n",
    "\n",
    "1. 7\n",
    "2. 11\n",
    "3. 107\n",
    "\n",
    "Score: 3/3\n",
    "\n",
    "1. 1100\n",
    "2. 101100\n",
    "3. 11111110\n",
    "\n",
    "## Homework Hacks\n",
    "\n",
    "Score: 9/9\n",
    "\n",
    "1. 4; since the data in scores1 is from scores2\n",
    "2. 1; in the 3rd step listB is the data from listA and then, in step 4, listA is the data from listB which is the same as the original listA\n",
    "3. 3; since each string is counted as 1 item, and there are 6 strings in total\n",
    "4. 4; the index of lists starts at 0 which makes \"purple\" the 5th item in the list\n",
    "5. 4; lists can store all data types\n",
    "6. 2; a float is a number which has a decimal point\n",
    "7. 3; since the index starts at 0 the 17th item would have an index at 16\n",
    "8. 2; variables typically can be changed\n",
    "9. 6; the answer can't be 2 since there is a 1:1 float:string ratio and it can't be 3 since the list has a length of 10. This eliminates 5 and 7 and since 1 and 4 are true the answer is 6"
   ]
  }
 ],
 "metadata": {
  "kernelspec": {
   "display_name": "Python 3.9.12 ('base')",
   "language": "python",
   "name": "python3"
  },
  "language_info": {
   "codemirror_mode": {
    "name": "ipython",
    "version": 3
   },
   "file_extension": ".py",
   "mimetype": "text/x-python",
   "name": "python",
   "nbconvert_exporter": "python",
   "pygments_lexer": "ipython3",
   "version": "3.9.12"
  },
  "orig_nbformat": 4,
  "vscode": {
   "interpreter": {
    "hash": "61a57a4b5406d2de388e2f91097d4e4bcd7d5f4a46f53a795aa28a02eed27fc5"
   }
  }
 },
 "nbformat": 4,
 "nbformat_minor": 2
}
