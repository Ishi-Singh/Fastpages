{
 "cells": [
  {
   "cell_type": "markdown",
   "metadata": {},
   "source": [
    "# Unit 3 Sections 1-2\n",
    "> 2022-11-28\n",
    "\n",
    "- toc: true \n",
    "- badges: true\n",
    "- comments: true\n",
    "- categories: [jupyter]"
   ]
  },
  {
   "cell_type": "markdown",
   "metadata": {},
   "source": [
    "## 3.1\n",
    "\n",
    "## Variables and Assignments 1\n",
    "\n",
    "Score: 6/6\n",
    "\n",
    "1. 1; in a store the number of apples can change from coustomers taking them and the store restocking them. This means that there's addition and subtraction is going on, which tells us the the variable type is an integer. Which is why I chose 1 as my answer.\n",
    "\n",
    "2. 3; the variable type must be boolean because we're looking for a True or False output this leaves choices 2 and 3 but 3 is chosen since \"isCold\" is more specific than \"weather\".\n",
    "\n",
    "3. 1; the variable type is string since ID numbers can't be added or subracted by a value, leaving 1 as the answer.\n",
    "\n",
    "4. 2; the variable is too long.\n",
    "\n",
    "5. 1; only booleans have the ablity to store a variable as true or false.\n",
    "\n",
    "6. 4; integers have the ability to preform operations on themselves while strings can only store a \"dialague\" of numbers and not an actual integer values.\n",
    "\n",
    "### Making Questions\n",
    "\n",
    "1. You work at a store and you want to make a list of names for all the items the store has, which of the following variable types will most likly be used?\n",
    "\n",
    "A. isFruit, boolean\\\n",
    "B. itemPrice, float\\\n",
    "C. itemName, string\\\n",
    "D. numberOfItems, integer\n",
    "\n",
    "Answer: C. itemName, string\n",
    "\n",
    "2. As a weatherman you need to tell if the weather is hot or not, how would you name this vaariable and what would be its data type?\n",
    "\n",
    "A. isHot, boolean\\\n",
    "B. isHot, integer\\\n",
    "C. weatherTemperature, string\\\n",
    "D. weatherTemperature, float\n",
    "\n",
    "Answer: A. isHot, boolean\n",
    "\n",
    "3. What is the best way to store a variable which is suppose to help with adding whole numbers?\n",
    "\n",
    "A. numAdd, integer\\\n",
    "B. numAdd, float\\\n",
    "C. isPositive, boolean\\\n",
    "D. isPositive, string\n",
    "\n",
    "Answer: A. numAdd, integer\n",
    "\n",
    "## Variables and Assignments 2\n",
    "\n",
    "Practice Qustions\n",
    "\n",
    "1. 3; the ELSE block of the code is used since num1 < num2 and the second IF block is used since num2 ≥ num3 which makes the answer 8 + 4 + 4 which can be simplified to 16\n",
    "2. 2; num1 is set to 10 num2 is set to 10 and num3 is set to 10 as well which makes the sum 10 + 10 + 10 which can be simplified to 30\n",
    "3. 3; the latest thing ran sets the score to 7\n",
    "4. 2; the latest value sets highScore as currentScore and currentScore is 10\n",
    "5. 4; num1 is set to num2 so both of them have the same value\n",
    "6. 2; num1 has the value of num2 which has the value of num3 which is 30, num2 has the value of num3 which is 30, and num3 has the value of num1 which is 25 so 30 30 25 will be displayed\n",
    "7. 2; r is assigned as p which is assigned as q and since q is 20 so is r\n",
    "8. 3; second is assigned as first which is assigned as true so both first and second are true\n",
    "9. 21 40 30 2.75; b has the value of 40 since it's equal to x + b which is 20 + 20, d has a value of 2.75 since it's equal to c/d + 2 which is the same as 30/40 + 2, a has a value of 21 since it's equal to x + 1 which is 20 + 1 which can be simplified to 21, and c is just 30\n",
    "\n",
    "### Making Questions\n",
    "\n",
    "Consider the following code segment\n",
    "\n",
    "a ⟵ 5\\\n",
    "b ⟵ 10\\\n",
    "c ⟵ 20\\\n",
    "a ⟵ a + b\\\n",
    "c ⟵ c - a\\\n",
    "b ⟵ c + b\n",
    "\n",
    "1. What is the value of a?\n",
    "\n",
    "A. 20\\\n",
    "B. 15\\\n",
    "C. 10\\\n",
    "D. 5\n",
    "\n",
    "Answer: B. 15\n",
    "\n",
    "2. What is the value of b?\n",
    "\n",
    "A. 20\\\n",
    "B. 15\\\n",
    "C. 10\\\n",
    "D. 5\n",
    "\n",
    "Answer: C. 10\n",
    "\n",
    "3. What is the value of c?\n",
    "\n",
    "A. 20\\\n",
    "B. 15\\\n",
    "C. 10\\\n",
    "D. 5\n",
    "\n",
    "Answer: D. 5\n",
    "\n",
    "Consider the following code segment\n",
    "\n",
    "a ⟵ 10\\\n",
    "b ⟵ 2\\\n",
    "c ⟵ 8\\\n",
    "DISPLAY(a)\\\n",
    "a ⟵ a - b\\\n",
    "c ⟵ a + c\\\n",
    "DISPLAY(a)\\\n",
    "DISPLAY(c)\n",
    "\n",
    "4. What will be displayed after this code is ran?\\\n",
    "\n",
    "A. 10, 10, 8\\\n",
    "B. 10, 12, 8\\\n",
    "C. 10, 8, 16\\\n",
    "D. 10, 10, 16\n",
    "\n",
    "Answer: C. 10, 8, 16\n",
    "\n",
    "Consider the following code segment\n",
    "\n",
    "a ⟵ 9\\\n",
    "b ⟵ 5\\\n",
    "c ⟵ 3\\\n",
    "a ⟵ a - b\\\n",
    "c ⟵ a - c\\\n",
    "b ⟵ a + c\\\n",
    "DISPLAY(a)\\\n",
    "DISPLAY(b)\\\n",
    "DISPLAY(c)\n",
    "\n",
    "5. What is the value of B?\n",
    "\n",
    "A. 2\\\n",
    "B. 3\\\n",
    "C. 4\\\n",
    "D. 5\n",
    "\n",
    "Answer: D. 5\n",
    "\n",
    "6. What is the value of C?\n",
    "\n",
    "A. 1\\\n",
    "B. 2\\\n",
    "C. 3\\\n",
    "D. 4\n",
    "\n",
    "Answer: A. 1"
   ]
  },
  {
   "cell_type": "markdown",
   "metadata": {},
   "source": [
    "## 3.2\n",
    "### Interacting\n",
    "\n",
    "1. Modify the list to change the length to 5."
   ]
  },
  {
   "cell_type": "code",
   "execution_count": 4,
   "metadata": {},
   "outputs": [],
   "source": [
    "languages_list = []\n",
    "languages_list = [\"Python\", \"C++\", \"JavaScript\", \"Java\", \"C#\"] \n",
    "\n",
    "## To change the length to 5 I just added more variables in the list until it got to 5\n"
   ]
  },
  {
   "cell_type": "markdown",
   "metadata": {},
   "source": [
    "2. Change the following code to print out the list."
   ]
  },
  {
   "cell_type": "code",
   "execution_count": 5,
   "metadata": {},
   "outputs": [
    {
     "name": "stdout",
     "output_type": "stream",
     "text": [
      "['Python', 'C++', 'JavaScript']\n"
     ]
    }
   ],
   "source": [
    "languages_list = []\n",
    "languages_list = [\"Python\", \"C++\", \"JavaScript\"]\n",
    "print(languages_list)\n",
    "\n",
    "## For this I just added the name of the list in the parentheses in print()"
   ]
  },
  {
   "cell_type": "markdown",
   "metadata": {},
   "source": [
    "3. Change the following code to print out only \"Python\""
   ]
  },
  {
   "cell_type": "code",
   "execution_count": 6,
   "metadata": {},
   "outputs": [
    {
     "name": "stdout",
     "output_type": "stream",
     "text": [
      "Python\n"
     ]
    }
   ],
   "source": [
    "languages_list = []\n",
    "languages_list = [\"Python\", \"C++\", \"JavaScript\"]\n",
    "print(languages_list[0])\n",
    "\n",
    "## Since lists start at 0 you put that number in the brackets which would then print the value at that point which is, in this case, \"Python\""
   ]
  },
  {
   "cell_type": "markdown",
   "metadata": {},
   "source": [
    "4. Replace contents/data of listA with contents/data from listB."
   ]
  },
  {
   "cell_type": "code",
   "execution_count": 8,
   "metadata": {},
   "outputs": [
    {
     "name": "stdout",
     "output_type": "stream",
     "text": [
      "[22, 7, 13]\n"
     ]
    }
   ],
   "source": [
    "listA = []\n",
    "listA = [1, 55, 8, 2, 76]\n",
    "listB = []\n",
    "listB = [22, 7, 13]\n",
    "listA = listB\n",
    "\n",
    "print(listA)\n",
    "\n",
    "## "
   ]
  },
  {
   "cell_type": "markdown",
   "metadata": {},
   "source": [
    "5. Make 2 lists:\n",
    "\n",
    "- a list of string data\n",
    "- a list of number data\n",
    "- the length of the each list is a minimum of 4\n",
    "- change the names of the lists"
   ]
  },
  {
   "cell_type": "code",
   "execution_count": 9,
   "metadata": {},
   "outputs": [
    {
     "name": "stdout",
     "output_type": "stream",
     "text": [
      "['a', 'b', 'c', 'd', 'e', 1, 2, 3, 4, 5]\n"
     ]
    }
   ],
   "source": [
    "listA = [\"a\", \"b\", \"c\", \"d\", \"e\"]\n",
    "listB = [1, 2, 3, 4, 5]\n",
    "\n",
    "A = listA\n",
    "B = listB\n",
    "\n",
    "print(A + B)"
   ]
  },
  {
   "cell_type": "markdown",
   "metadata": {},
   "source": [
    "6. Combine the list to contain all of the data from both lists."
   ]
  },
  {
   "cell_type": "code",
   "execution_count": 10,
   "metadata": {},
   "outputs": [
    {
     "name": "stdout",
     "output_type": "stream",
     "text": [
      "['a', 'b', 'c', 'd', 'e', 1, 2, 3, 4, 5]\n"
     ]
    }
   ],
   "source": [
    "listA = [\"a\", \"b\", \"c\", \"d\", \"e\"]\n",
    "listB = [1, 2, 3, 4, 5]\n",
    "\n",
    "listC = listA + listB\n",
    "\n",
    "print(listC)"
   ]
  },
  {
   "cell_type": "markdown",
   "metadata": {},
   "source": [
    "### Binary\n",
    "\n",
    "Score: 3/3\n",
    "\n",
    "1. 7\n",
    "2. 11\n",
    "3. 107\n",
    "\n",
    "Score: 3/3\n",
    "\n",
    "1. 1100\n",
    "2. 101100\n",
    "3. 11111110\n",
    "\n",
    "### Homework Hacks\n",
    "\n",
    "Score: 9/9\n",
    "\n",
    "1. 4; since the data in scores1 is from scores2\n",
    "2. 1; in the 3rd step listB is the data from listA and then, in step 4, listA is the data from listB which is the same as the original listA\n",
    "3. 3; since each string is counted as 1 item, and there are 6 strings in total\n",
    "4. 4; the index of lists starts at 0 which makes \"purple\" the 5th item in the list\n",
    "5. 4; lists can store all data types\n",
    "6. 2; a float is a number which has a decimal point\n",
    "7. 3; since the index starts at 0 the 17th item would have an index at 16\n",
    "8. 2; variables typically can be changed\n",
    "9. 6; the answer can't be 2 since there is a 1:1 float:string ratio and it can't be 3 since the list has a length of 10. This eliminates 5 and 7 and since 1 and 4 are true the answer is 6"
   ]
  }
 ],
 "metadata": {
  "kernelspec": {
   "display_name": "Python 3.9.12 ('base')",
   "language": "python",
   "name": "python3"
  },
  "language_info": {
   "codemirror_mode": {
    "name": "ipython",
    "version": 3
   },
   "file_extension": ".py",
   "mimetype": "text/x-python",
   "name": "python",
   "nbconvert_exporter": "python",
   "pygments_lexer": "ipython3",
   "version": "3.9.12"
  },
  "orig_nbformat": 4,
  "vscode": {
   "interpreter": {
    "hash": "61a57a4b5406d2de388e2f91097d4e4bcd7d5f4a46f53a795aa28a02eed27fc5"
   }
  }
 },
 "nbformat": 4,
 "nbformat_minor": 2
}
