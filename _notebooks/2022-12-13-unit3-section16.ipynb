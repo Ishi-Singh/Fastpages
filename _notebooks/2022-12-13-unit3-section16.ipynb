{
 "cells": [
  {
   "attachments": {},
   "cell_type": "markdown",
   "metadata": {},
   "source": [
    "# Unit 3 Section 16 Hacks\n",
    "- comments: true\n",
    "- toc: true"
   ]
  },
  {
   "attachments": {},
   "cell_type": "markdown",
   "metadata": {},
   "source": [
    "|Question|Answer |\n",
    "|---|---|\n",
    "|Name (First+Last)|Ishi Singh|\n",
    "|1|--|\n",
    "|2|--|\n",
    "|3|C|\n",
    "|4|B|\n",
    "|5|C|\n",
    "|6|A|\n",
    "|7|A|\n",
    "|8|--|\n",
    "|9|B|\n",
    "\n",
    "### Extra \n",
    "> Show your understanding. You could make a simple simulation, define vocab, etc."
   ]
  },
  {
   "cell_type": "markdown",
   "metadata": {},
   "source": [
    "## WHAT QUESTIONS\n",
    "\n",
    "3: What is not a reason to use a pseudo-random number generator when making a simulation?\n",
    "\n",
    "<br>A: To mock imperfections from the real world<br>B: To save resources <br>C: To make the simulation more accurate<br>\n",
    "\n",
    "4: Which of the following is the least likely factor to be removed from a flight(air traffic) simulation for functionality?\n",
    "<br>A: Weather<br>B: Other aircraft<br>C: Imperfections on aircraft\n",
    "\n",
    "## Experiment/Calculation or Simulation\n",
    "\n",
    "5: What is not (usually) a difference between a experiment and a simulation?\n",
    "<br>A: Resources and time needed <br>B: Factors considered <br>C: Situation considered\n",
    "\n",
    "**For each situation answer: Would it make more sense to use a simulation or a experiment/calculation?**\n",
    "\n",
    "6: A car company needs to know how safe it's customers will be if it's new car crashes\n",
    "<br>A: Simulation <br>B: Experiment/calculation<br>\n",
    "\n",
    "7: A environmental group wants an accurate guess on the impact the greenhouse effect will have on the environment\n",
    "<br>A: Simulation <br>B: Experiment/calculation<br>\n",
    "\n",
    "9: A teacher want's to find the average score from a final \n",
    "<br>A: Simulation <br>B: Experiment/calculation\n",
    "\n"
   ]
  },
  {
   "attachments": {},
   "cell_type": "markdown",
   "metadata": {},
   "source": [
    "## Lesson Takeaway\n",
    "\n",
    "Simulations are useful for a variety of purposes in coding. Some of the benefits of using simulations include:\n",
    "1. Testing and debugging: Simulations can be used to test and debug code by allowing developers to see how their code behaves in different scenarios. This can be especially useful when working with complex systems or when trying to identify and fix issues that might not be immediately apparent.\n",
    "2. Modeling and prediction: Simulations can be used to model and predict the behavior of real-world systems, allowing developers to better understand and predict how a system will behave under different conditions.\n",
    "3. Expense: Simulations can also help reduce the cost for testing since less equipment is required to test code.\n",
    "\n",
    "Overall, simulations are an important tool that can help developers to design, test, and optimize their code, and to better understand and predict the behavior of complex systems."
   ]
  },
  {
   "attachments": {},
   "cell_type": "markdown",
   "metadata": {},
   "source": [
    "## Making a Simulation\n",
    "The simulation below give the time, position, and velocity values of an object which is in free fall. It starts with an inital position of 50m and an inital velocity of 0m/s. And it changes these values based on the time value 10 times."
   ]
  },
  {
   "cell_type": "code",
   "execution_count": 28,
   "metadata": {},
   "outputs": [
    {
     "name": "stdout",
     "output_type": "stream",
     "text": [
      "Time: 0.25         Position: 50.0          Velocity: -2.45\n",
      "Time: 1.25         Position: 49.388          Velocity: -4.9\n",
      "Time: 2.25         Position: 48.163          Velocity: -7.35\n",
      "Time: 3.25         Position: 46.325          Velocity: -9.8\n",
      "Time: 4.25         Position: 43.875          Velocity: -12.25\n",
      "Time: 5.25         Position: 40.812          Velocity: -14.7\n",
      "Time: 6.25         Position: 37.137          Velocity: -17.15\n",
      "Time: 7.25         Position: 32.849          Velocity: -19.6\n",
      "Time: 8.25         Position: 27.949          Velocity: -22.05\n",
      "Time: 9.25         Position: 22.437          Velocity: -24.5\n"
     ]
    }
   ],
   "source": [
    "g = 9.8 ## Gravity in m/s^2\n",
    "dt = 0.25 ## This is the step value for time in s\n",
    "x = 50 ## Inital position in m\n",
    "v = 0 ## Inital velocity in m/s\n",
    "\n",
    "for t in range(10): ## For the first 10 values\n",
    "    x = x + v * dt ## This calculates the position and velocity  ## xf = xi + vt\n",
    "    v = v - g * dt  ## vf = vi + at\n",
    "\n",
    "    x = round(x, 3)  ## Rounds to 3 decimal places\n",
    "    v = round(v, 3)\n",
    "    \n",
    "    print(\"Time:\", t+dt,\"       \", \"Position:\", x,\"        \", \"Velocity:\", v)"
   ]
  }
 ],
 "metadata": {
  "kernelspec": {
   "display_name": "base",
   "language": "python",
   "name": "python3"
  },
  "language_info": {
   "codemirror_mode": {
    "name": "ipython",
    "version": 3
   },
   "file_extension": ".py",
   "mimetype": "text/x-python",
   "name": "python",
   "nbconvert_exporter": "python",
   "pygments_lexer": "ipython3",
   "version": "3.9.12"
  },
  "orig_nbformat": 4,
  "vscode": {
   "interpreter": {
    "hash": "61a57a4b5406d2de388e2f91097d4e4bcd7d5f4a46f53a795aa28a02eed27fc5"
   }
  }
 },
 "nbformat": 4,
 "nbformat_minor": 2
}
