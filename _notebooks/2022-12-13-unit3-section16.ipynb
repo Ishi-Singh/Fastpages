{
 "cells": [
  {
   "cell_type": "markdown",
   "metadata": {},
   "source": [
    "# Hacks for simulations\n",
    "- comments: true\n",
    "- toc: true"
   ]
  },
  {
   "attachments": {},
   "cell_type": "markdown",
   "metadata": {},
   "source": [
    "|Question|Answer |\n",
    "|---|---|\n",
    "|Ishi Singh|--|\n",
    "|1|--|\n",
    "|2|--|\n",
    "|3|A|\n",
    "|4|B|\n",
    "|5|B or C|\n",
    "|6||\n",
    "|7||\n",
    "|8||\n",
    "|9||\n",
    "\n",
    "### Extra \n",
    "> Show your understanding. You could make a simple simulation, define vocab, etc."
   ]
  },
  {
   "cell_type": "markdown",
   "metadata": {},
   "source": [
    "## WHAT QUESTIONS\n",
    "\n",
    "3: What is not a reason to use a pseudo-random number generator when making a simulation?\n",
    "\n",
    "<br>A: To mock imperfections from the real world<br>B: To save resources <br>C: To make the simulation more accurate<br>\n",
    "\n",
    "4: Which of the following is the least likely factor to be removed from a flight(air traffic) simulation for functionality?\n",
    "<br>A: Weather<br>B: Other aircraft<br>C: Imperfections on aircraft\n",
    "\n",
    "## Experiment/Calculation or Simulation\n",
    "\n",
    "5: What is not (usually) a difference between a experiment and a simulation?\n",
    "<br>A: Resources and time needed <br>B: Factors considered <br>C: Situation considered\n",
    "\n",
    "**For each situation answer: Would it make more sense to use a simulation or a experiment/calculation?**\n",
    "\n",
    "6: A car company needs to know how safe it's customers will be if it's new car crashes\n",
    "<br>A: Simulation <br>B: Experiment/calculation<br>\n",
    "\n",
    "7: A environmental group wants an accurate guess on the impact the greenhouse effect will have on the environment\n",
    "<br>A: Simulation <br>B: Experiment/calculation<br>\n",
    "\n",
    "9: A teacher want's to find the average score from a final \n",
    "<br>A: Simulation <br>B: Experiment/calculation\n",
    "\n"
   ]
  }
 ],
 "metadata": {
  "kernelspec": {
   "display_name": "base",
   "language": "python",
   "name": "python3"
  },
  "language_info": {
   "codemirror_mode": {
    "name": "ipython",
    "version": 3
   },
   "file_extension": ".py",
   "mimetype": "text/x-python",
   "name": "python",
   "nbconvert_exporter": "python",
   "pygments_lexer": "ipython3",
   "version": "3.9.12 (main, Apr  5 2022, 06:56:58) \n[GCC 7.5.0]"
  },
  "orig_nbformat": 4,
  "vscode": {
   "interpreter": {
    "hash": "61a57a4b5406d2de388e2f91097d4e4bcd7d5f4a46f53a795aa28a02eed27fc5"
   }
  }
 },
 "nbformat": 4,
 "nbformat_minor": 2
}
