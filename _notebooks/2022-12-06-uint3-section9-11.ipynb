{
 "cells": [
  {
   "cell_type": "markdown",
   "metadata": {},
   "source": [
    "## Hacks\n",
    "\n",
    "1. Write this Boolean statement in the form of a conditional (if/else) statement: stayInside⟵((isCold) OR (isRaining))"
   ]
  },
  {
   "cell_type": "code",
   "execution_count": null,
   "metadata": {},
   "outputs": [],
   "source": [
    "if isCold == True or isRaining == True:\n",
    "    print"
   ]
  },
  {
   "cell_type": "code",
   "execution_count": 18,
   "metadata": {},
   "outputs": [
    {
     "name": "stdout",
     "output_type": "stream",
     "text": [
      "Original List :  [1, 2, 3, 4, 5]\n",
      "Reversed List :  [5, 4, 3, 2, 1]\n"
     ]
    }
   ],
   "source": [
    "original = [1, 2, 3, 4, 5]\n",
    "print(\"Original List : \", original) ## prints the original list\n",
    "reversed = [] ## makes an empty list for the reverse values\n",
    "for int in original:\n",
    "  reversed = [int] + reversed ## reverses the list \n",
    "print(\"Reversed List : \", reversed)"
   ]
  },
  {
   "cell_type": "code",
   "execution_count": 41,
   "metadata": {},
   "outputs": [
    {
     "name": "stdout",
     "output_type": "stream",
     "text": [
      "Original List: [9, 8, 4, 3, 5, 2, 6, 7, 1, 0]\n",
      "Sorted List: [0, 1, 2, 3, 4, 5, 6, 7, 8, 9]\n"
     ]
    }
   ],
   "source": [
    "list = [9, 8, 4, 3, 5, 2, 6, 7, 1, 0] # Sort this array\n",
    "print(f\"Original List: {list}\")\n",
    "\n",
    "def sort(list):\n",
    "    for int in range(1,10):\n",
    "        value = list[int]\n",
    "        i = int - 1\n",
    "        while i >= 0:\n",
    "            if value < list[i]:\n",
    "                list[i+1] = list[i]\n",
    "                list[i] = value\n",
    "                i = i - 1\n",
    "            else:\n",
    "                break\n",
    "\n",
    "\n",
    "sort(list)\n",
    "print(f\"Sorted List: {list}\")"
   ]
  },
  {
   "cell_type": "markdown",
   "metadata": {},
   "source": [
    "2. Create an algorithm that uses selection and/or iteration that will represent one player’s complete turn.\n",
    "    - During a turn, each player gets 4 attempts/chances to get the greatest number possible.\n",
    "    - During each attempt, the player will use a random number generator to select a random number from 1 to 10.\n",
    "    - After they have had 4 chances, their score is the greatest number they received from the random number generator, and their turn is over."
   ]
  },
  {
   "cell_type": "markdown",
   "metadata": {},
   "source": [
    "3. Create an algorithm that will allow the arrow to reach the gray square"
   ]
  },
  {
   "cell_type": "markdown",
   "metadata": {},
   "source": [
    "4. Make a binary search tree of different the list [1,2,3,4,6,9,11,69]"
   ]
  },
  {
   "cell_type": "markdown",
   "metadata": {},
   "source": [
    "5. Explain thorughly how to find the number 69 in the list above (use key words)"
   ]
  },
  {
   "cell_type": "markdown",
   "metadata": {},
   "source": [
    "6. Make a diagram explaining how you found the list (not tree, include equation)"
   ]
  },
  {
   "cell_type": "markdown",
   "metadata": {},
   "source": [
    "7. Put this list of strings in a order that can be used for binary search [“store”,”Market”,”Walmart”,Target”,”Ralphs”]"
   ]
  },
  {
   "cell_type": "markdown",
   "metadata": {},
   "source": [
    "8. Explain why Binary Search is more efficient than Sequential Search"
   ]
  },
  {
   "cell_type": "markdown",
   "metadata": {},
   "source": [
    "9. [64,36,16,11,9] Explain which number you are finding, how many check it would take, and make a binary search tree"
   ]
  }
 ],
 "metadata": {
  "kernelspec": {
   "display_name": "Python 3.9.12 ('base')",
   "language": "python",
   "name": "python3"
  },
  "language_info": {
   "codemirror_mode": {
    "name": "ipython",
    "version": 3
   },
   "file_extension": ".py",
   "mimetype": "text/x-python",
   "name": "python",
   "nbconvert_exporter": "python",
   "pygments_lexer": "ipython3",
   "version": "3.9.12"
  },
  "orig_nbformat": 4,
  "vscode": {
   "interpreter": {
    "hash": "61a57a4b5406d2de388e2f91097d4e4bcd7d5f4a46f53a795aa28a02eed27fc5"
   }
  }
 },
 "nbformat": 4,
 "nbformat_minor": 2
}
