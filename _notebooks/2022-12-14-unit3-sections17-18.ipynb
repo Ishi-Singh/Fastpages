{
 "cells": [
  {
   "attachments": {},
   "cell_type": "markdown",
   "metadata": {},
   "source": [
    "# Unit 3 Sections 17-18 Hacks\n",
    "\n",
    "- toc: true\n",
    "- badges: true\n",
    "- comments: true\n",
    "- categories: [jupyter]"
   ]
  },
  {
   "attachments": {},
   "cell_type": "markdown",
   "metadata": {},
   "source": [
    "## Hack 1\n",
    "Please write a short 1-2 sentence explanation describing the difference between decidable and undecidable problems. Make sure to provide at least one example of each.\n",
    "\n",
    "Decidable problems are those for which an algorithm exists that can solve the problem in a finite amount of time, while undecidable problems are those for which no such algorithm exists. An example of a decidable problem is determining whether a given number is even or odd as shown below:"
   ]
  },
  {
   "cell_type": "code",
   "execution_count": 4,
   "metadata": {},
   "outputs": [
    {
     "name": "stdout",
     "output_type": "stream",
     "text": [
      "5 is odd\n"
     ]
    }
   ],
   "source": [
    "x = int(input(\"Type a number: \"))\n",
    "\n",
    "if x % 2 == 1: \n",
    "    print(x, \"is odd\") \n",
    "else:\n",
    "    print(x, \"is even\") "
   ]
  },
  {
   "attachments": {},
   "cell_type": "markdown",
   "metadata": {},
   "source": [
    "And an example of an undeciable problem is the Halting Problem which basically a program and its input are given, and it needs to be determine whether or not the program will run forever. This problem is undecidable because it is possible for a program to contain an infinite loop that never halts."
   ]
  },
  {
   "attachments": {},
   "cell_type": "markdown",
   "metadata": {},
   "source": [
    "## Hack 2\n",
    "\n",
    "Which of the following is a 3 step algorithm?\n",
    "\n",
    "A. 2 x 6 x 8\n",
    "\n",
    "B. 4^5\n",
    "\n",
    "C. (3 x 8)^2\n",
    "\n",
    "D. None of the above\n",
    "\n",
    "E. All of the above\n",
    "\n",
    "The answer is C since first the 3 and 8 are multiplied giveing 24. Second the previous result is squared (24^2) which give 576. Giving a result of 576. And this takes a total of three steps."
   ]
  },
  {
   "attachments": {},
   "cell_type": "markdown",
   "metadata": {},
   "source": [
    "## Hack 3\n",
    "Rewrite this JavaScript Code in a More Efficient Way (Hint: Use Binary Search)"
   ]
  },
  {
   "cell_type": "code",
   "execution_count": null,
   "metadata": {
    "vscode": {
     "languageId": "javascript"
    }
   },
   "outputs": [],
   "source": [
    "function peak_finder(array){\n",
    "    let counter = 0\n",
    "    let peak = 0\n",
    "    let peak_index =0\n",
    "    while (counter <= array.length){\n",
    "      console.log(counter)\n",
    "    if (counter === 0){\n",
    "      if (a[0]>=a[1]){\n",
    "        peak = a[0]\n",
    "        peak_index = counter\n",
    "        counter = array.length\n",
    "        return `The ${counter-1} indexed number, ${peak} is a peak`\n",
    "      }else{\n",
    "        counter+=1\n",
    "      }\n",
    "    }else if(counter === array.length-1){\n",
    "       if (a[array.length-1] >= a[array.length-2]){\n",
    "       peak = a[array.length-1]\n",
    "       peak_index = counter\n",
    "       counter = array.length\n",
    "       return `The ${counter-1} indexed number, ${peak} is a peak`\n",
    "       }\n",
    "     }else{\n",
    "        if (a[counter]> a[counter+1] && a[counter]> a[counter-1]){\n",
    "        peak = a[counter]\n",
    "        peak_index = counter\n",
    "        counter = array.length\n",
    "        return `The ${counter-1} indexed number, ${peak} is a peak`\n",
    "      }else{\n",
    "        counter += 1\n",
    "      }\n",
    "    }\n",
    "  }\n",
    "  }"
   ]
  },
  {
   "attachments": {},
   "cell_type": "markdown",
   "metadata": {},
   "source": [
    "This was a bit difficult and I didn't really know how to do this, but I tried my best."
   ]
  },
  {
   "cell_type": "code",
   "execution_count": null,
   "metadata": {
    "vscode": {
     "languageId": "javascript"
    }
   },
   "outputs": [],
   "source": [
    "function peak_finder(array) {\n",
    "    for (let i = 0; i < array.length; i++) {\n",
    "      if (i === 0) {\n",
    "        if (array[i] >= array[i + 1]) {\n",
    "          return `The ${i} indexed number, ${array[i]} is a peak`;\n",
    "        }\n",
    "      } else if (i === array.length - 1) {\n",
    "        if (array[i] >= array[i - 1]) {\n",
    "          return `The ${i} indexed number, ${array[i]} is a peak`;\n",
    "        }\n",
    "      } else {\n",
    "        if (array[i] > array[i - 1] && array[i] > array[i + 1]) {\n",
    "          return `The ${i} indexed number, ${array[i]} is a peak`;\n",
    "        }\n",
    "      }\n",
    "    }\n",
    "  }"
   ]
  },
  {
   "attachments": {},
   "cell_type": "markdown",
   "metadata": {},
   "source": [
    "## Hack 4\n",
    "Rewrite this Python Code in a More Efficient Way"
   ]
  },
  {
   "cell_type": "code",
   "execution_count": 6,
   "metadata": {},
   "outputs": [
    {
     "name": "stdout",
     "output_type": "stream",
     "text": [
      "[0, 1, 2, 3, 4, 5, 6, 7, 8, 9]\n"
     ]
    }
   ],
   "source": [
    "def merge_sort(data):\n",
    "    if len(data) <= 1:\n",
    "        return\n",
    "    \n",
    "    mid = len(data) // 2\n",
    "    left_data = data[:mid]\n",
    "    right_data = data[mid:]\n",
    "    \n",
    "    merge_sort(left_data)\n",
    "    merge_sort(right_data)\n",
    "    \n",
    "    left_index = 0\n",
    "    right_index = 0\n",
    "    data_index = 0\n",
    "    \n",
    "    while left_index < len(left_data) and right_index < len(right_data):\n",
    "        if left_data[left_index] < right_data[right_index]:\n",
    "            data[data_index] = left_data[left_index]\n",
    "            left_index += 1\n",
    "        else:\n",
    "            data[data_index] = right_data[right_index]\n",
    "            right_index += 1\n",
    "        data_index += 1\n",
    "    \n",
    "    if left_index < len(left_data):\n",
    "        del data[data_index:]\n",
    "        data += left_data[left_index:]\n",
    "    elif right_index < len(right_data):\n",
    "        del data[data_index:]\n",
    "        data += right_data[right_index:]\n",
    "    \n",
    "if __name__ == '__main__':\n",
    "    data = [9, 1, 7, 6, 2, 8, 5, 3, 4, 0]\n",
    "    merge_sort(data)\n",
    "    print(data)"
   ]
  },
  {
   "cell_type": "code",
   "execution_count": 7,
   "metadata": {},
   "outputs": [
    {
     "name": "stdout",
     "output_type": "stream",
     "text": [
      "Unsorted Data:  [9, 1, 7, 6, 2, 8, 5, 3, 4, 0]\n",
      "Sorted Data:  [0, 1, 2, 3, 4, 5, 6, 7, 8, 9]\n"
     ]
    }
   ],
   "source": [
    "data = [9, 1, 7, 6, 2, 8, 5, 3, 4, 0]\n",
    "print(\"Unsorted Data: \", data)\n",
    "\n",
    "data.sort()\n",
    "print(\"Sorted Data: \", data)"
   ]
  },
  {
   "attachments": {},
   "cell_type": "markdown",
   "metadata": {},
   "source": [
    "## Hack 5\n",
    "Rewrite this Python Code in a More Efficient Way"
   ]
  },
  {
   "cell_type": "code",
   "execution_count": 8,
   "metadata": {},
   "outputs": [
    {
     "name": "stdout",
     "output_type": "stream",
     "text": [
      "[1, 2, 3]\n",
      "[2, 1, 3]\n",
      "[3, 1, 2]\n",
      "[1, 3, 2]\n",
      "[2, 3, 1]\n",
      "[3, 2, 1]\n"
     ]
    }
   ],
   "source": [
    "def heap_permutation(data, n):\n",
    "    if n == 1:\n",
    "        print(data)\n",
    "        return\n",
    "    \n",
    "    for i in range(n):\n",
    "        heap_permutation(data, n - 1)\n",
    "        if n % 2 == 0:\n",
    "            data[i], data[n-1] = data[n-1], data[i]\n",
    "        else:\n",
    "            data[0], data[n-1] = data[n-1], data[0]\n",
    "    \n",
    "if __name__ == '__main__':\n",
    "    data = [1, 2, 3]\n",
    "    heap_permutation(data, len(data))"
   ]
  },
  {
   "cell_type": "code",
   "execution_count": 14,
   "metadata": {},
   "outputs": [
    {
     "name": "stdout",
     "output_type": "stream",
     "text": [
      "(1, 2, 3)\n",
      "(1, 3, 2)\n",
      "(2, 1, 3)\n",
      "(2, 3, 1)\n",
      "(3, 1, 2)\n",
      "(3, 2, 1)\n"
     ]
    }
   ],
   "source": [
    "from itertools import permutations\n",
    "data = [1, 2, 3]\n",
    "for i in permutations(data):\n",
    "    print(i)"
   ]
  }
 ],
 "metadata": {
  "kernelspec": {
   "display_name": "base",
   "language": "python",
   "name": "python3"
  },
  "language_info": {
   "codemirror_mode": {
    "name": "ipython",
    "version": 3
   },
   "file_extension": ".py",
   "mimetype": "text/x-python",
   "name": "python",
   "nbconvert_exporter": "python",
   "pygments_lexer": "ipython3",
   "version": "3.9.12 (main, Apr  5 2022, 06:56:58) \n[GCC 7.5.0]"
  },
  "orig_nbformat": 4,
  "vscode": {
   "interpreter": {
    "hash": "61a57a4b5406d2de388e2f91097d4e4bcd7d5f4a46f53a795aa28a02eed27fc5"
   }
  }
 },
 "nbformat": 4,
 "nbformat_minor": 2
}
